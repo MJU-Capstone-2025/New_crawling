{
 "cells": [
  {
   "cell_type": "code",
   "execution_count": 9,
   "id": "bc56049c",
   "metadata": {},
   "outputs": [
    {
     "name": "stdout",
     "output_type": "stream",
     "text": [
      "[페이지 0] 크롤링 중: https://www.usda.gov/search?query=coffee&commit=Search&page=0\n",
      "[페이지 1] 크롤링 중: https://www.usda.gov/search?query=coffee&commit=Search&page=1\n",
      "[페이지 2] 크롤링 중: https://www.usda.gov/search?query=coffee&commit=Search&page=2\n",
      "[페이지 3] 크롤링 중: https://www.usda.gov/search?query=coffee&commit=Search&page=3\n",
      "[페이지 4] 크롤링 중: https://www.usda.gov/search?query=coffee&commit=Search&page=4\n",
      "[페이지 5] 크롤링 중: https://www.usda.gov/search?query=coffee&commit=Search&page=5\n",
      "[페이지 6] 크롤링 중: https://www.usda.gov/search?query=coffee&commit=Search&page=6\n",
      "[페이지 7] 크롤링 중: https://www.usda.gov/search?query=coffee&commit=Search&page=7\n",
      "[페이지 8] 크롤링 중: https://www.usda.gov/search?query=coffee&commit=Search&page=8\n",
      "[페이지 9] 크롤링 중: https://www.usda.gov/search?query=coffee&commit=Search&page=9\n",
      "[페이지 10] 크롤링 중: https://www.usda.gov/search?query=coffee&commit=Search&page=10\n",
      "[페이지 11] 크롤링 중: https://www.usda.gov/search?query=coffee&commit=Search&page=11\n",
      "수집 완료: 총 115개 기사 → 'usda_coffee_articles.csv' 저장됨\n"
     ]
    }
   ],
   "source": [
    "from selenium import webdriver\n",
    "from selenium.webdriver.chrome.options import Options\n",
    "from bs4 import BeautifulSoup\n",
    "from datetime import datetime\n",
    "import time\n",
    "import pandas as pd\n",
    "\n",
    "options = Options()\n",
    "# options.add_argument('--headless')  # 디버깅 시 끄기\n",
    "options.add_argument('--start-maximized')\n",
    "options.add_argument(\"user-agent=Mozilla/5.0 (Windows NT 10.0; Win64; x64) AppleWebKit/537.36 (KHTML, like Gecko) Chrome/119.0.0.0 Safari/537.36\")\n",
    "\n",
    "driver = webdriver.Chrome(options=options)\n",
    "\n",
    "all_data = []\n",
    "\n",
    "for page in range(12):  \n",
    "    url = f'https://www.usda.gov/search?query=coffee&commit=Search&page={page}'\n",
    "    print(f\"[페이지 {page}] 크롤링 중: {url}\")\n",
    "    driver.get(url)\n",
    "    time.sleep(8)  \n",
    "\n",
    "    soup = BeautifulSoup(driver.page_source, 'html.parser')\n",
    "    articles = soup.select(\"div.views-row\")\n",
    "\n",
    "    if not articles:\n",
    "        print(f\"⚠ 페이지 {page}에서 기사 항목을 찾을 수 없습니다. 건너뜁니다.\")\n",
    "        continue\n",
    "\n",
    "    for article in articles:\n",
    "        title_tag = article.select_one('div.node-teaser__content h2 a')\n",
    "        date_tag = article.select_one('span.date.text-bold')\n",
    "\n",
    "        if title_tag and date_tag:\n",
    "            title = title_tag.get_text(strip=True)\n",
    "            link = title_tag['href']\n",
    "            full_url = f\"https://www.usda.gov{link}\" if link.startswith(\"/\") else link\n",
    "\n",
    "            raw_date = date_tag.get_text(strip=True)\n",
    "\n",
    "            # 날짜 변환\n",
    "            try:\n",
    "                date = datetime.strptime(raw_date, \"%B %d, %Y\").strftime(\"%Y-%m-%d\")\n",
    "            except ValueError:\n",
    "                try:\n",
    "                    date = datetime.strptime(raw_date, \"%b %d, %Y\").strftime(\"%Y-%m-%d\")\n",
    "                except:\n",
    "                    date = raw_date\n",
    "\n",
    "            all_data.append({\n",
    "                \"date\": date,\n",
    "                \"title\": title,\n",
    "                \"url\": full_url\n",
    "            })\n",
    "\n",
    "driver.quit()\n",
    "\n",
    "df = pd.DataFrame(all_data)\n",
    "\n",
    "# 날짜 기준 내림차순 정렬 (최신순)\n",
    "df = df.sort_values(by='date', ascending=False)\n",
    "df.to_csv(\"usda_coffee_articles.csv\", index=False, encoding='utf-8-sig')\n",
    "\n",
    "print(f\"수집 완료: 총 {len(df)}개 기사 → 'usda_coffee_articles.csv' 저장됨\")"
   ]
  },
  {
   "cell_type": "code",
   "execution_count": null,
   "id": "5c992086",
   "metadata": {},
   "outputs": [],
   "source": []
  }
 ],
 "metadata": {
  "kernelspec": {
   "display_name": "Python (ML)",
   "language": "python",
   "name": "ml"
  },
  "language_info": {
   "codemirror_mode": {
    "name": "ipython",
    "version": 3
   },
   "file_extension": ".py",
   "mimetype": "text/x-python",
   "name": "python",
   "nbconvert_exporter": "python",
   "pygments_lexer": "ipython3",
   "version": "3.9.7"
  }
 },
 "nbformat": 4,
 "nbformat_minor": 5
}
